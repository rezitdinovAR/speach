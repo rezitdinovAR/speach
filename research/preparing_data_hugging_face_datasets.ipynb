{
 "cells": [
  {
   "cell_type": "markdown",
   "id": "c0e2829a",
   "metadata": {},
   "source": [
    "# Подготовка данных для ASR HuggingFace datasets"
   ]
  },
  {
   "cell_type": "markdown",
   "id": "c3ef82b9",
   "metadata": {},
   "source": [
    "## Импорты"
   ]
  },
  {
   "cell_type": "code",
   "execution_count": 31,
   "id": "e3dd55d1",
   "metadata": {},
   "outputs": [],
   "source": [
    "import os\n",
    "import re\n",
    "\n",
    "import matplotlib.pyplot as plt\n",
    "%matplotlib inline\n",
    "import pandas as pd\n",
    "from torch.utils.data import Dataset\n",
    "\n",
    "from dataset_all import IPS1ASRDataset\n",
    "from TatAsr.utils import clean_text\n",
    "from tqdm import tqdm"
   ]
  },
  {
   "cell_type": "markdown",
   "id": "8c02e20c",
   "metadata": {},
   "source": [
    "## Датасеты"
   ]
  },
  {
   "cell_type": "code",
   "execution_count": 50,
   "id": "90806c62",
   "metadata": {},
   "outputs": [],
   "source": [
    "DATASET_PATH = '../tatar_asr_3'"
   ]
  },
  {
   "cell_type": "code",
   "execution_count": 51,
   "id": "e74b6021",
   "metadata": {},
   "outputs": [
    {
     "name": "stdout",
     "output_type": "stream",
     "text": [
      "Отсутствует файл 106402_549.txt\n",
      "Отсутствует файл 106402_563.txt\n",
      "Отсутствует файл 106392_986.txt\n",
      "Отсутствует файл metadata.txt\n",
      "Отсутствует файл metadata.txt\n",
      "Отсутствует файл 106402_1280.txt\n"
     ]
    }
   ],
   "source": [
    "ips_dataset_train = IPS1ASRDataset(f'{DATASET_PATH}/train/')\n",
    "ips_dataset_valid = IPS1ASRDataset(f'{DATASET_PATH}/test/')"
   ]
  },
  {
   "cell_type": "code",
   "execution_count": 52,
   "id": "7449ef4a",
   "metadata": {},
   "outputs": [
    {
     "name": "stdout",
     "output_type": "stream",
     "text": [
      "len(ips_dataset_train) = 15834\n",
      "len(ips_dataset_valid) = 3975\n"
     ]
    }
   ],
   "source": [
    "print(f'len(ips_dataset_train) = {len(ips_dataset_train)}')\n",
    "print(f'len(ips_dataset_valid) = {len(ips_dataset_valid)}')"
   ]
  },
  {
   "cell_type": "code",
   "execution_count": 53,
   "id": "472c6ffb",
   "metadata": {},
   "outputs": [
    {
     "data": {
      "text/plain": [
       "('../tatar_asr_3/train/106402_813.wav', 16000, '\\ufeffКараклар, ', 0, 0, 0)"
      ]
     },
     "execution_count": 53,
     "metadata": {},
     "output_type": "execute_result"
    }
   ],
   "source": [
    "ips_dataset_train.get_metadata(65)"
   ]
  },
  {
   "cell_type": "code",
   "execution_count": 54,
   "id": "daec054b",
   "metadata": {},
   "outputs": [],
   "source": [
    "def from_dataset_to_df_HF(dataset: Dataset) -> pd.DataFrame:\n",
    "    data = []\n",
    "    for index in tqdm(range(len(dataset))):\n",
    "        item = dataset.get_metadata(index)\n",
    "        \n",
    "        text = clean_text(item[2])\n",
    "        item_dict = {\n",
    "            'file_name': str(item[0].split('/')[-1]),\n",
    "            'transcription': text,\n",
    "            #'len': len(text),\n",
    "            #'word_count': len(text.split()),\n",
    "            #'duration': dataset[index][0].shape[1] / 16_000\n",
    "        }\n",
    "        data.append(item_dict)\n",
    "    df = pd.DataFrame(data)\n",
    "    del data\n",
    "    return df"
   ]
  },
  {
   "cell_type": "code",
   "execution_count": 55,
   "id": "a3547fd9",
   "metadata": {},
   "outputs": [
    {
     "name": "stderr",
     "output_type": "stream",
     "text": [
      "100%|█████████████████████████████████████████████████████████████████████████████████████████████████████████████████████████████████████████████████████████████████████████████████████████████████████| 15834/15834 [00:08<00:00, 1938.74it/s]\n",
      "100%|███████████████████████████████████████████████████████████████████████████████████████████████████████████████████████████████████████████████████████████████████████████████████████████████████████| 3975/3975 [00:02<00:00, 1940.49it/s]\n"
     ]
    }
   ],
   "source": [
    "df_train = from_dataset_to_df_HF(ips_dataset_train)\n",
    "df_valid = from_dataset_to_df_HF(ips_dataset_valid)"
   ]
  },
  {
   "cell_type": "code",
   "execution_count": 56,
   "id": "aa747b82",
   "metadata": {},
   "outputs": [
    {
     "data": {
      "text/html": [
       "<div>\n",
       "<style scoped>\n",
       "    .dataframe tbody tr th:only-of-type {\n",
       "        vertical-align: middle;\n",
       "    }\n",
       "\n",
       "    .dataframe tbody tr th {\n",
       "        vertical-align: top;\n",
       "    }\n",
       "\n",
       "    .dataframe thead th {\n",
       "        text-align: right;\n",
       "    }\n",
       "</style>\n",
       "<table border=\"1\" class=\"dataframe\">\n",
       "  <thead>\n",
       "    <tr style=\"text-align: right;\">\n",
       "      <th></th>\n",
       "      <th>file_name</th>\n",
       "      <th>transcription</th>\n",
       "    </tr>\n",
       "  </thead>\n",
       "  <tbody>\n",
       "    <tr>\n",
       "      <th>0</th>\n",
       "      <td>106371_705.wav</td>\n",
       "      <td>аннары ул озак торырга ярамый әнкәйләр ачулана...</td>\n",
       "    </tr>\n",
       "    <tr>\n",
       "      <th>1</th>\n",
       "      <td>106238_945.wav</td>\n",
       "      <td>сабирҗан мәзин яисә гыймади карт монда күчеп к...</td>\n",
       "    </tr>\n",
       "    <tr>\n",
       "      <th>2</th>\n",
       "      <td>106406_1618.wav</td>\n",
       "      <td>мине сезнең колхозга вәкил итеп җибәрделәр</td>\n",
       "    </tr>\n",
       "    <tr>\n",
       "      <th>3</th>\n",
       "      <td>106406_294.wav</td>\n",
       "      <td>улым исән сау кайтсын</td>\n",
       "    </tr>\n",
       "    <tr>\n",
       "      <th>4</th>\n",
       "      <td>106373_483.wav</td>\n",
       "      <td>патша нишләргә белмичә кара кайгыга төште шашы...</td>\n",
       "    </tr>\n",
       "  </tbody>\n",
       "</table>\n",
       "</div>"
      ],
      "text/plain": [
       "         file_name                                      transcription\n",
       "0   106371_705.wav  аннары ул озак торырга ярамый әнкәйләр ачулана...\n",
       "1   106238_945.wav  сабирҗан мәзин яисә гыймади карт монда күчеп к...\n",
       "2  106406_1618.wav         мине сезнең колхозга вәкил итеп җибәрделәр\n",
       "3   106406_294.wav                              улым исән сау кайтсын\n",
       "4   106373_483.wav  патша нишләргә белмичә кара кайгыга төште шашы..."
      ]
     },
     "execution_count": 56,
     "metadata": {},
     "output_type": "execute_result"
    }
   ],
   "source": [
    "df_train.head()"
   ]
  },
  {
   "cell_type": "code",
   "execution_count": 57,
   "id": "00ab624c",
   "metadata": {},
   "outputs": [
    {
     "data": {
      "text/html": [
       "<div>\n",
       "<style scoped>\n",
       "    .dataframe tbody tr th:only-of-type {\n",
       "        vertical-align: middle;\n",
       "    }\n",
       "\n",
       "    .dataframe tbody tr th {\n",
       "        vertical-align: top;\n",
       "    }\n",
       "\n",
       "    .dataframe thead th {\n",
       "        text-align: right;\n",
       "    }\n",
       "</style>\n",
       "<table border=\"1\" class=\"dataframe\">\n",
       "  <thead>\n",
       "    <tr style=\"text-align: right;\">\n",
       "      <th></th>\n",
       "      <th>file_name</th>\n",
       "      <th>transcription</th>\n",
       "    </tr>\n",
       "  </thead>\n",
       "  <tbody>\n",
       "    <tr>\n",
       "      <th>0</th>\n",
       "      <td>106392_0.wav</td>\n",
       "      <td>аның иркен күкрәгеннән чыккан тавышы</td>\n",
       "    </tr>\n",
       "    <tr>\n",
       "      <th>1</th>\n",
       "      <td>106367_2030.wav</td>\n",
       "      <td>дип сүзгә керештеләр</td>\n",
       "    </tr>\n",
       "    <tr>\n",
       "      <th>2</th>\n",
       "      <td>106392_1581.wav</td>\n",
       "      <td>казармадан ерак түгел өем өем булып тезелеп ки...</td>\n",
       "    </tr>\n",
       "    <tr>\n",
       "      <th>3</th>\n",
       "      <td>106238_50.wav</td>\n",
       "      <td>сафа шундук хатынының фикер юнәлешен аңлап алд...</td>\n",
       "    </tr>\n",
       "    <tr>\n",
       "      <th>4</th>\n",
       "      <td>106402_1371.wav</td>\n",
       "      <td>күзләре каршыларындагы нәрсәләрне күрмәс дәрәҗ...</td>\n",
       "    </tr>\n",
       "  </tbody>\n",
       "</table>\n",
       "</div>"
      ],
      "text/plain": [
       "         file_name                                      transcription\n",
       "0     106392_0.wav               аның иркен күкрәгеннән чыккан тавышы\n",
       "1  106367_2030.wav                               дип сүзгә керештеләр\n",
       "2  106392_1581.wav  казармадан ерак түгел өем өем булып тезелеп ки...\n",
       "3    106238_50.wav  сафа шундук хатынының фикер юнәлешен аңлап алд...\n",
       "4  106402_1371.wav  күзләре каршыларындагы нәрсәләрне күрмәс дәрәҗ..."
      ]
     },
     "execution_count": 57,
     "metadata": {},
     "output_type": "execute_result"
    }
   ],
   "source": [
    "df_valid.head()"
   ]
  },
  {
   "cell_type": "markdown",
   "id": "7551cd65",
   "metadata": {},
   "source": [
    "### Вывод"
   ]
  },
  {
   "cell_type": "code",
   "execution_count": 58,
   "id": "cc8829d6",
   "metadata": {},
   "outputs": [],
   "source": [
    "df_train.to_csv(f'{DATASET_PATH}/train/metadata.csv')\n",
    "df_valid.to_csv(f'{DATASET_PATH}/test/metadata.csv')"
   ]
  },
  {
   "cell_type": "code",
   "execution_count": null,
   "id": "3908144d",
   "metadata": {},
   "outputs": [],
   "source": []
  }
 ],
 "metadata": {
  "kernelspec": {
   "display_name": "asr",
   "language": "python",
   "name": "asr"
  },
  "language_info": {
   "codemirror_mode": {
    "name": "ipython",
    "version": 3
   },
   "file_extension": ".py",
   "mimetype": "text/x-python",
   "name": "python",
   "nbconvert_exporter": "python",
   "pygments_lexer": "ipython3",
   "version": "3.11.4"
  }
 },
 "nbformat": 4,
 "nbformat_minor": 5
}
