{
 "cells": [
  {
   "cell_type": "code",
   "execution_count": 8,
   "id": "f1e57859",
   "metadata": {},
   "outputs": [],
   "source": [
    "!pip install transformers -qq"
   ]
  },
  {
   "cell_type": "code",
   "execution_count": 22,
   "id": "6f15202c",
   "metadata": {},
   "outputs": [],
   "source": [
    "!pip install torchmetrics -qq"
   ]
  },
  {
   "cell_type": "code",
   "execution_count": 1,
   "id": "9354d0ef",
   "metadata": {},
   "outputs": [],
   "source": [
    "# Use a pipeline as a high-level helper\n",
    "from transformers import pipeline\n",
    "\n",
    "pipe = pipeline(\n",
    "    \"automatic-speech-recognition\", \n",
    "    model=\"dhcppc0/soyle_29_08\",\n",
    "    device='cuda')"
   ]
  },
  {
   "cell_type": "code",
   "execution_count": 2,
   "id": "5166c0de",
   "metadata": {},
   "outputs": [
    {
     "data": {
      "text/plain": [
       "{'text': 'zamанына да дияреспубликаны атлаи алға'}"
      ]
     },
     "execution_count": 2,
     "metadata": {},
     "output_type": "execute_result"
    }
   ],
   "source": [
    "pipe('/home/asr/projects/speach/tatar_tts/443.37.wav')"
   ]
  },
  {
   "cell_type": "code",
   "execution_count": 3,
   "id": "71ba9cbf",
   "metadata": {},
   "outputs": [],
   "source": [
    "from dataset import IPS1ASRDataset"
   ]
  },
  {
   "cell_type": "code",
   "execution_count": 4,
   "id": "ecdf612a",
   "metadata": {},
   "outputs": [],
   "source": [
    "ips_dataset = IPS1ASRDataset('../tatar_tts/')"
   ]
  },
  {
   "cell_type": "code",
   "execution_count": 5,
   "id": "8940c1be",
   "metadata": {},
   "outputs": [],
   "source": [
    "assert len(ips_dataset[0]) == 2\n",
    "assert ips_dataset[0][1] == 'караса аны җен шулай чакыра ди'\n",
    "assert len(ips_dataset) == 87438"
   ]
  },
  {
   "cell_type": "code",
   "execution_count": 6,
   "id": "551d12cf",
   "metadata": {},
   "outputs": [],
   "source": [
    "test_cer, test_wer = [], []\n",
    "n = len(ips_dataset)"
   ]
  },
  {
   "cell_type": "code",
   "execution_count": 7,
   "id": "522835a0",
   "metadata": {},
   "outputs": [],
   "source": [
    "from utils import *"
   ]
  },
  {
   "cell_type": "code",
   "execution_count": 15,
   "id": "828fa47f",
   "metadata": {},
   "outputs": [
    {
     "data": {
      "application/vnd.jupyter.widget-view+json": {
       "model_id": "16087f7152af449fada24f9dea761f57",
       "version_major": 2,
       "version_minor": 0
      },
      "text/plain": [
       "  0%|          | 0/5 [00:00<?, ?it/s]"
      ]
     },
     "metadata": {},
     "output_type": "display_data"
    },
    {
     "name": "stderr",
     "output_type": "stream",
     "text": [
      "/home/asr/miniconda3/envs/asr/lib/python3.11/site-packages/transformers/pipelines/base.py:1090: UserWarning: You seem to be using the pipelines sequentially on GPU. In order to maximize efficiency please use a dataset\n",
      "  warnings.warn(\n"
     ]
    },
    {
     "name": "stdout",
     "output_type": "stream",
     "text": [
      "караса аны җен шулаи чакыра деи || караса аны җен шулай чакыра ди\n",
      "cer 6.451612903225806\n",
      "wer 33.33333333333333\n",
      "################\n"
     ]
    },
    {
     "name": "stderr",
     "output_type": "stream",
     "text": [
      "/home/asr/miniconda3/envs/asr/lib/python3.11/site-packages/transformers/pipelines/base.py:1090: UserWarning: You seem to be using the pipelines sequentially on GPU. In order to maximize efficiency please use a dataset\n",
      "  warnings.warn(\n"
     ]
    },
    {
     "name": "stdout",
     "output_type": "stream",
     "text": [
      "bезнең бер генә кораб та зарарланмаи || без­нең бер генә кораб та зарарланмый,\n",
      "cer 13.88888888888889\n",
      "wer 33.33333333333333\n",
      "################\n"
     ]
    },
    {
     "name": "stderr",
     "output_type": "stream",
     "text": [
      "/home/asr/miniconda3/envs/asr/lib/python3.11/site-packages/transformers/pipelines/base.py:1090: UserWarning: You seem to be using the pipelines sequentially on GPU. In order to maximize efficiency please use a dataset\n",
      "  warnings.warn(\n"
     ]
    },
    {
     "name": "stdout",
     "output_type": "stream",
     "text": [
      "чистартып көннән көн сәгатьтән сәгатькә көтә башладылар ||  чистартып көннән-көн, сәгатьтән-сәгатькә көтә башладылар,\n",
      "cer 7.2727272727272725\n",
      "wer 85.71428571428571\n",
      "################\n"
     ]
    },
    {
     "name": "stderr",
     "output_type": "stream",
     "text": [
      "/home/asr/miniconda3/envs/asr/lib/python3.11/site-packages/transformers/pipelines/base.py:1090: UserWarning: You seem to be using the pipelines sequentially on GPU. In order to maximize efficiency please use a dataset\n",
      "  warnings.warn(\n"
     ]
    },
    {
     "name": "stdout",
     "output_type": "stream",
     "text": [
      "эшләр аның үзенә язылмаса да шул уҡ өлгөргәнлек билгесе || эшләр, аның үзенә язылмаса да, шул ук өлгергәнлек билгесе\n",
      "cer 7.2727272727272725\n",
      "wer 44.44444444444444\n",
      "################\n"
     ]
    },
    {
     "name": "stderr",
     "output_type": "stream",
     "text": [
      "/home/asr/miniconda3/envs/asr/lib/python3.11/site-packages/transformers/pipelines/base.py:1090: UserWarning: You seem to be using the pipelines sequentially on GPU. In order to maximize efficiency please use a dataset\n",
      "  warnings.warn(\n"
     ]
    },
    {
     "name": "stdout",
     "output_type": "stream",
     "text": [
      "ни өчүн русьта агач архитектура өстенлек иткән || ни өчен русьта агач архитектура өстенлек иткән\n",
      "cer 2.1739130434782608\n",
      "wer 14.285714285714285\n",
      "################\n"
     ]
    }
   ],
   "source": [
    "for index in tnrange(5):\n",
    "    path, label = ips_dataset[index]\n",
    "    pred_label = pipe(path)['text']\n",
    "    words = min(len(pred_label), len(label))\n",
    "    print(pred_label,'||', label)\n",
    "    print('cer', cer(pred_label, label) * 100)\n",
    "    print('wer', wer(pred_label, label) * 100)\n",
    "    print('################')\n",
    "    test_cer.append(cer(pred_label, label))\n",
    "    test_wer.append(wer(pred_label, label))\n",
    "\n",
    "avg_cer = sum(test_cer)/len(test_cer) * 100\n",
    "avg_wer = sum(test_wer)/len(test_wer) * 100"
   ]
  },
  {
   "cell_type": "code",
   "execution_count": 10,
   "id": "8ab2f176",
   "metadata": {},
   "outputs": [
    {
     "name": "stdout",
     "output_type": "stream",
     "text": [
      "Average CER: 7.411974% Average WER: 42.22%\n",
      "\n"
     ]
    }
   ],
   "source": [
    "print('Average CER: {:2f}% Average WER: {:.2f}%\\n'.format(avg_cer, avg_wer))"
   ]
  },
  {
   "cell_type": "code",
   "execution_count": null,
   "id": "4575cbce",
   "metadata": {},
   "outputs": [],
   "source": []
  }
 ],
 "metadata": {
  "kernelspec": {
   "display_name": "asr",
   "language": "python",
   "name": "asr"
  },
  "language_info": {
   "codemirror_mode": {
    "name": "ipython",
    "version": 3
   },
   "file_extension": ".py",
   "mimetype": "text/x-python",
   "name": "python",
   "nbconvert_exporter": "python",
   "pygments_lexer": "ipython3",
   "version": "3.11.4"
  }
 },
 "nbformat": 4,
 "nbformat_minor": 5
}
