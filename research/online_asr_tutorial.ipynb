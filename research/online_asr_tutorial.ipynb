{
 "cells": [
  {
   "cell_type": "markdown",
   "metadata": {},
   "source": [
    "\n",
    "# Online ASR with Emformer RNN-T\n",
    "\n",
    "**Author**: [Jeff Hwang](jeffhwang@meta.com)_, [Moto Hira](moto@meta.com)_\n",
    "\n",
    "This tutorial shows how to use Emformer RNN-T and streaming API\n",
    "to perform online speech recognition.\n"
   ]
  },
  {
   "cell_type": "markdown",
   "metadata": {},
   "source": [
    "<div class=\"alert alert-info\"><h4>Note</h4><p>This tutorial requires FFmpeg libraries and SentencePiece.\n",
    "\n",
    "   Please refer to `Optional Dependencies <optional_dependencies>`\n",
    "   for the detail.</p></div>\n",
    "\n",
    "\n"
   ]
  },
  {
   "cell_type": "markdown",
   "metadata": {},
   "source": [
    "## 1. Overview\n",
    "\n",
    "Performing online speech recognition is composed of the following steps\n",
    "\n",
    "1. Build the inference pipeline\n",
    "   Emformer RNN-T is composed of three components: feature extractor,\n",
    "   decoder and token processor.\n",
    "2. Format the waveform into chunks of expected sizes.\n",
    "3. Pass data through the pipeline.\n",
    "\n"
   ]
  },
  {
   "cell_type": "markdown",
   "metadata": {},
   "source": [
    "## 2. Preparation\n",
    "\n",
    "\n"
   ]
  },
  {
   "cell_type": "code",
   "execution_count": null,
   "metadata": {},
   "outputs": [],
   "source": [
    "import torch\n",
    "import torchaudio\n",
    "\n",
    "print(torch.__version__)\n",
    "print(torchaudio.__version__)\n",
    "\n",
    "import IPython\n",
    "import matplotlib.pyplot as plt\n",
    "from torchaudio.io import StreamReader"
   ]
  },
  {
   "cell_type": "markdown",
   "metadata": {},
   "source": [
    "## 3. Construct the pipeline\n",
    "\n",
    "Pre-trained model weights and related pipeline components are\n",
    "bundled as :py:class:`torchaudio.pipelines.RNNTBundle`.\n",
    "\n",
    "We use :py:data:`torchaudio.pipelines.EMFORMER_RNNT_BASE_LIBRISPEECH`,\n",
    "which is a Emformer RNN-T model trained on LibriSpeech dataset.\n",
    "\n",
    "\n"
   ]
  },
  {
   "cell_type": "code",
   "execution_count": null,
   "metadata": {},
   "outputs": [],
   "source": [
    "bundle = torchaudio.pipelines.EMFORMER_RNNT_BASE_LIBRISPEECH\n",
    "\n",
    "feature_extractor = bundle.get_streaming_feature_extractor()\n",
    "decoder = bundle.get_decoder()\n",
    "token_processor = bundle.get_token_processor()"
   ]
  },
  {
   "cell_type": "markdown",
   "metadata": {},
   "source": [
    "Streaming inference works on input data with overlap.\n",
    "Emformer RNN-T model treats the newest portion of the input data\n",
    "as the \"right context\" — a preview of future context.\n",
    "In each inference call, the model expects the main segment\n",
    "to start from this right context from the previous inference call.\n",
    "The following figure illustrates this.\n",
    "\n",
    "<img src=\"https://download.pytorch.org/torchaudio/tutorial-assets/emformer_rnnt_context.png\">\n",
    "\n",
    "The size of main segment and right context, along with\n",
    "the expected sample rate can be retrieved from bundle.\n",
    "\n",
    "\n"
   ]
  },
  {
   "cell_type": "code",
   "execution_count": null,
   "metadata": {},
   "outputs": [],
   "source": [
    "sample_rate = bundle.sample_rate\n",
    "segment_length = bundle.segment_length * bundle.hop_length\n",
    "context_length = bundle.right_context_length * bundle.hop_length\n",
    "\n",
    "print(f\"Sample rate: {sample_rate}\")\n",
    "print(f\"Main segment: {segment_length} frames ({segment_length / sample_rate} seconds)\")\n",
    "print(f\"Right context: {context_length} frames ({context_length / sample_rate} seconds)\")"
   ]
  },
  {
   "cell_type": "markdown",
   "metadata": {},
   "source": [
    "## 4. Configure the audio stream\n",
    "\n",
    "Next, we configure the input audio stream using :py:class:`torchaudio.io.StreamReader`.\n",
    "\n",
    "For the detail of this API, please refer to the\n",
    "[StreamReader Basic Usage](./streamreader_basic_tutorial.html)_.\n",
    "\n",
    "\n"
   ]
  },
  {
   "cell_type": "markdown",
   "metadata": {},
   "source": [
    "The following audio file was originally published by LibriVox project,\n",
    "and it is in the public domain.\n",
    "\n",
    "https://librivox.org/great-pirate-stories-by-joseph-lewis-french/\n",
    "\n",
    "It was re-uploaded for the sake of the tutorial.\n",
    "\n",
    "\n"
   ]
  },
  {
   "cell_type": "code",
   "execution_count": null,
   "metadata": {},
   "outputs": [],
   "source": [
    "src = \"https://download.pytorch.org/torchaudio/tutorial-assets/greatpiratestories_00_various.mp3\"\n",
    "\n",
    "streamer = StreamReader(src)\n",
    "streamer.add_basic_audio_stream(frames_per_chunk=segment_length, sample_rate=bundle.sample_rate)\n",
    "\n",
    "print(streamer.get_src_stream_info(0))\n",
    "print(streamer.get_out_stream_info(0))"
   ]
  },
  {
   "cell_type": "markdown",
   "metadata": {},
   "source": [
    "As previously explained, Emformer RNN-T model expects input data with\n",
    "overlaps; however, `Streamer` iterates the source media without overlap,\n",
    "so we make a helper structure that caches a part of input data from\n",
    "`Streamer` as right context and then appends it to the next input data from\n",
    "`Streamer`.\n",
    "\n",
    "The following figure illustrates this.\n",
    "\n",
    "<img src=\"https://download.pytorch.org/torchaudio/tutorial-assets/emformer_rnnt_streamer_context.png\">\n",
    "\n",
    "\n"
   ]
  },
  {
   "cell_type": "code",
   "execution_count": null,
   "metadata": {},
   "outputs": [],
   "source": [
    "class ContextCacher:\n",
    "    \"\"\"Cache the end of input data and prepend the next input data with it.\n",
    "\n",
    "    Args:\n",
    "        segment_length (int): The size of main segment.\n",
    "            If the incoming segment is shorter, then the segment is padded.\n",
    "        context_length (int): The size of the context, cached and appended.\n",
    "    \"\"\"\n",
    "\n",
    "    def __init__(self, segment_length: int, context_length: int):\n",
    "        self.segment_length = segment_length\n",
    "        self.context_length = context_length\n",
    "        self.context = torch.zeros([context_length])\n",
    "\n",
    "    def __call__(self, chunk: torch.Tensor):\n",
    "        if chunk.size(0) < self.segment_length:\n",
    "            chunk = torch.nn.functional.pad(chunk, (0, self.segment_length - chunk.size(0)))\n",
    "        chunk_with_context = torch.cat((self.context, chunk))\n",
    "        self.context = chunk[-self.context_length :]\n",
    "        return chunk_with_context"
   ]
  },
  {
   "cell_type": "markdown",
   "metadata": {},
   "source": [
    "## 5. Run stream inference\n",
    "\n",
    "Finally, we run the recognition.\n",
    "\n",
    "First, we initialize the stream iterator, context cacher, and\n",
    "state and hypothesis that are used by decoder to carry over the\n",
    "decoding state between inference calls.\n",
    "\n",
    "\n"
   ]
  },
  {
   "cell_type": "code",
   "execution_count": null,
   "metadata": {},
   "outputs": [],
   "source": [
    "cacher = ContextCacher(segment_length, context_length)\n",
    "\n",
    "state, hypothesis = None, None"
   ]
  },
  {
   "cell_type": "markdown",
   "metadata": {},
   "source": [
    "Next we, run the inference.\n",
    "\n",
    "For the sake of better display, we create a helper function which\n",
    "processes the source stream up to the given times and call it\n",
    "repeatedly.\n",
    "\n",
    "\n"
   ]
  },
  {
   "cell_type": "code",
   "execution_count": null,
   "metadata": {},
   "outputs": [],
   "source": [
    "stream_iterator = streamer.stream()\n",
    "\n",
    "\n",
    "def _plot(feats, num_iter, unit=25):\n",
    "    unit_dur = segment_length / sample_rate * unit\n",
    "    num_plots = num_iter // unit + (1 if num_iter % unit else 0)\n",
    "    fig, axes = plt.subplots(num_plots, 1)\n",
    "    t0 = 0\n",
    "    for i, ax in enumerate(axes):\n",
    "        feats_ = feats[i * unit : (i + 1) * unit]\n",
    "        t1 = t0 + segment_length / sample_rate * len(feats_)\n",
    "        feats_ = torch.cat([f[2:-2] for f in feats_])  # remove boundary effect and overlap\n",
    "        ax.imshow(feats_.T, extent=[t0, t1, 0, 1], aspect=\"auto\", origin=\"lower\")\n",
    "        ax.tick_params(which=\"both\", left=False, labelleft=False)\n",
    "        ax.set_xlim(t0, t0 + unit_dur)\n",
    "        t0 = t1\n",
    "    fig.suptitle(\"MelSpectrogram Feature\")\n",
    "    plt.tight_layout()\n",
    "\n",
    "\n",
    "@torch.inference_mode()\n",
    "def run_inference(num_iter=100):\n",
    "    global state, hypothesis\n",
    "    chunks = []\n",
    "    feats = []\n",
    "    for i, (chunk,) in enumerate(stream_iterator, start=1):\n",
    "        segment = cacher(chunk[:, 0])\n",
    "        features, length = feature_extractor(segment)\n",
    "        hypos, state = decoder.infer(features, length, 10, state=state, hypothesis=hypothesis)\n",
    "        hypothesis = hypos\n",
    "        transcript = token_processor(hypos[0][0], lstrip=False)\n",
    "        print(transcript, end=\"\\r\", flush=True)\n",
    "\n",
    "        chunks.append(chunk)\n",
    "        feats.append(features)\n",
    "        if i == num_iter:\n",
    "            break\n",
    "\n",
    "    # Plot the features\n",
    "    _plot(feats, num_iter)\n",
    "    return IPython.display.Audio(torch.cat(chunks).T.numpy(), rate=bundle.sample_rate)"
   ]
  },
  {
   "cell_type": "code",
   "execution_count": null,
   "metadata": {},
   "outputs": [],
   "source": [
    "run_inference()"
   ]
  },
  {
   "cell_type": "code",
   "execution_count": null,
   "metadata": {},
   "outputs": [],
   "source": [
    "run_inference()"
   ]
  },
  {
   "cell_type": "code",
   "execution_count": null,
   "metadata": {},
   "outputs": [],
   "source": [
    "run_inference()"
   ]
  },
  {
   "cell_type": "code",
   "execution_count": null,
   "metadata": {},
   "outputs": [],
   "source": [
    "run_inference()"
   ]
  },
  {
   "cell_type": "code",
   "execution_count": null,
   "metadata": {},
   "outputs": [],
   "source": [
    "run_inference()"
   ]
  },
  {
   "cell_type": "code",
   "execution_count": null,
   "metadata": {},
   "outputs": [],
   "source": [
    "run_inference()"
   ]
  },
  {
   "cell_type": "code",
   "execution_count": null,
   "metadata": {},
   "outputs": [],
   "source": [
    "run_inference()"
   ]
  },
  {
   "cell_type": "code",
   "execution_count": null,
   "metadata": {},
   "outputs": [],
   "source": [
    "run_inference()"
   ]
  },
  {
   "cell_type": "code",
   "execution_count": null,
   "metadata": {},
   "outputs": [],
   "source": [
    "run_inference()"
   ]
  },
  {
   "cell_type": "code",
   "execution_count": null,
   "metadata": {},
   "outputs": [],
   "source": [
    "run_inference()"
   ]
  },
  {
   "cell_type": "code",
   "execution_count": null,
   "metadata": {},
   "outputs": [],
   "source": [
    "run_inference()"
   ]
  },
  {
   "cell_type": "code",
   "execution_count": null,
   "metadata": {},
   "outputs": [],
   "source": [
    "run_inference()"
   ]
  },
  {
   "cell_type": "code",
   "execution_count": null,
   "metadata": {},
   "outputs": [],
   "source": [
    "run_inference()"
   ]
  },
  {
   "cell_type": "markdown",
   "metadata": {},
   "source": [
    "Tag: :obj:`torchaudio.io`\n",
    "\n"
   ]
  }
 ],
 "metadata": {
  "kernelspec": {
   "display_name": "Python 3",
   "language": "python",
   "name": "python3"
  },
  "language_info": {
   "codemirror_mode": {
    "name": "ipython",
    "version": 3
   },
   "file_extension": ".py",
   "mimetype": "text/x-python",
   "name": "python",
   "nbconvert_exporter": "python",
   "pygments_lexer": "ipython3",
   "version": "3.6.9"
  }
 },
 "nbformat": 4,
 "nbformat_minor": 1
}
