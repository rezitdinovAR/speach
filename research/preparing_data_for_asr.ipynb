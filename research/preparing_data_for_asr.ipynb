{
 "cells": [
  {
   "cell_type": "markdown",
   "id": "c0e2829a",
   "metadata": {},
   "source": [
    "# Подготовка данных для ASR"
   ]
  },
  {
   "cell_type": "markdown",
   "id": "c3ef82b9",
   "metadata": {},
   "source": [
    "## Импорты"
   ]
  },
  {
   "cell_type": "code",
   "execution_count": 1,
   "id": "e3dd55d1",
   "metadata": {},
   "outputs": [],
   "source": [
    "import os\n",
    "import re\n",
    "\n",
    "import matplotlib.pyplot as plt\n",
    "%matplotlib inline\n",
    "import pandas as pd\n",
    "from torch.utils.data import Dataset\n",
    "\n",
    "from dataset_all import IPS1ASRDataset\n",
    "from TatAsr.utils import clean_text"
   ]
  },
  {
   "cell_type": "markdown",
   "id": "8c02e20c",
   "metadata": {},
   "source": [
    "## Датасеты"
   ]
  },
  {
   "cell_type": "code",
   "execution_count": 2,
   "id": "90806c62",
   "metadata": {},
   "outputs": [],
   "source": [
    "DATASET_PATH = '../tatar_asr_3'"
   ]
  },
  {
   "cell_type": "code",
   "execution_count": 3,
   "id": "e74b6021",
   "metadata": {},
   "outputs": [
    {
     "name": "stdout",
     "output_type": "stream",
     "text": [
      "Отсутствует файл 106402_549.txt\n",
      "Отсутствует файл 106402_563.txt\n",
      "Отсутствует файл 106392_986.txt\n",
      "Отсутствует файл 106402_1280.txt\n"
     ]
    }
   ],
   "source": [
    "ips_dataset_train = IPS1ASRDataset(f'{DATASET_PATH}/train/')\n",
    "ips_dataset_valid = IPS1ASRDataset(f'{DATASET_PATH}/valid/')"
   ]
  },
  {
   "cell_type": "code",
   "execution_count": 4,
   "id": "7449ef4a",
   "metadata": {},
   "outputs": [
    {
     "name": "stdout",
     "output_type": "stream",
     "text": [
      "len(ips_dataset_train) = 15834\n",
      "len(ips_dataset_valid) = 3975\n"
     ]
    }
   ],
   "source": [
    "print(f'len(ips_dataset_train) = {len(ips_dataset_train)}')\n",
    "print(f'len(ips_dataset_valid) = {len(ips_dataset_valid)}')"
   ]
  },
  {
   "cell_type": "code",
   "execution_count": 5,
   "id": "472c6ffb",
   "metadata": {},
   "outputs": [
    {
     "data": {
      "text/plain": [
       "('../tatar_asr_3/train/106402_813.wav', 16000, '\\ufeffКараклар, ', 0, 0, 0)"
      ]
     },
     "execution_count": 5,
     "metadata": {},
     "output_type": "execute_result"
    }
   ],
   "source": [
    "ips_dataset_train.get_metadata(65)"
   ]
  },
  {
   "cell_type": "code",
   "execution_count": 6,
   "id": "7cb6ef50",
   "metadata": {},
   "outputs": [],
   "source": [
    "def from_dataset_to_df(dataset: Dataset) -> pd.DataFrame:\n",
    "    data = []\n",
    "    for index in range(len(dataset)):\n",
    "        item = dataset.get_metadata(index)\n",
    "        \n",
    "        text = clean_text(item[2])\n",
    "        item_dict = {\n",
    "            'id': str(item[0].split('/')[-1][:-4]),\n",
    "            'text': text,\n",
    "            'len': len(text),\n",
    "            'word_count': len(text.split()),\n",
    "            'duration': dataset[index][0].shape[1] / 16_000\n",
    "        }\n",
    "        data.append(item_dict)\n",
    "    df = pd.DataFrame(data)\n",
    "    del data\n",
    "    return df"
   ]
  },
  {
   "cell_type": "code",
   "execution_count": 7,
   "id": "a3547fd9",
   "metadata": {},
   "outputs": [],
   "source": [
    "df_train = from_dataset_to_df(ips_dataset_train)\n",
    "df_valid = from_dataset_to_df(ips_dataset_valid)"
   ]
  },
  {
   "cell_type": "code",
   "execution_count": 8,
   "id": "aa747b82",
   "metadata": {},
   "outputs": [
    {
     "data": {
      "text/html": [
       "<div>\n",
       "<style scoped>\n",
       "    .dataframe tbody tr th:only-of-type {\n",
       "        vertical-align: middle;\n",
       "    }\n",
       "\n",
       "    .dataframe tbody tr th {\n",
       "        vertical-align: top;\n",
       "    }\n",
       "\n",
       "    .dataframe thead th {\n",
       "        text-align: right;\n",
       "    }\n",
       "</style>\n",
       "<table border=\"1\" class=\"dataframe\">\n",
       "  <thead>\n",
       "    <tr style=\"text-align: right;\">\n",
       "      <th></th>\n",
       "      <th>id</th>\n",
       "      <th>text</th>\n",
       "      <th>len</th>\n",
       "      <th>word_count</th>\n",
       "      <th>duration</th>\n",
       "    </tr>\n",
       "  </thead>\n",
       "  <tbody>\n",
       "    <tr>\n",
       "      <th>0</th>\n",
       "      <td>106371_705</td>\n",
       "      <td>аннары ул озак торырга ярамый әнкәйләр ачулана...</td>\n",
       "      <td>83</td>\n",
       "      <td>13</td>\n",
       "      <td>6.273000</td>\n",
       "    </tr>\n",
       "    <tr>\n",
       "      <th>1</th>\n",
       "      <td>106238_945</td>\n",
       "      <td>сабирҗан мәзин яисә гыймади карт монда күчеп к...</td>\n",
       "      <td>84</td>\n",
       "      <td>12</td>\n",
       "      <td>5.643187</td>\n",
       "    </tr>\n",
       "    <tr>\n",
       "      <th>2</th>\n",
       "      <td>106406_1618</td>\n",
       "      <td>мине сезнең колхозга вәкил итеп җибәрделәр</td>\n",
       "      <td>42</td>\n",
       "      <td>6</td>\n",
       "      <td>2.827812</td>\n",
       "    </tr>\n",
       "    <tr>\n",
       "      <th>3</th>\n",
       "      <td>106406_294</td>\n",
       "      <td>улым исән сау кайтсын</td>\n",
       "      <td>21</td>\n",
       "      <td>4</td>\n",
       "      <td>1.413938</td>\n",
       "    </tr>\n",
       "    <tr>\n",
       "      <th>4</th>\n",
       "      <td>106373_483</td>\n",
       "      <td>патша нишләргә белмичә кара кайгыга төште шашы...</td>\n",
       "      <td>53</td>\n",
       "      <td>8</td>\n",
       "      <td>5.978937</td>\n",
       "    </tr>\n",
       "  </tbody>\n",
       "</table>\n",
       "</div>"
      ],
      "text/plain": [
       "            id                                               text  len  \\\n",
       "0   106371_705  аннары ул озак торырга ярамый әнкәйләр ачулана...   83   \n",
       "1   106238_945  сабирҗан мәзин яисә гыймади карт монда күчеп к...   84   \n",
       "2  106406_1618         мине сезнең колхозга вәкил итеп җибәрделәр   42   \n",
       "3   106406_294                              улым исән сау кайтсын   21   \n",
       "4   106373_483  патша нишләргә белмичә кара кайгыга төште шашы...   53   \n",
       "\n",
       "   word_count  duration  \n",
       "0          13  6.273000  \n",
       "1          12  5.643187  \n",
       "2           6  2.827812  \n",
       "3           4  1.413938  \n",
       "4           8  5.978937  "
      ]
     },
     "execution_count": 8,
     "metadata": {},
     "output_type": "execute_result"
    }
   ],
   "source": [
    "df_train.head()"
   ]
  },
  {
   "cell_type": "code",
   "execution_count": 9,
   "id": "00ab624c",
   "metadata": {},
   "outputs": [
    {
     "data": {
      "text/html": [
       "<div>\n",
       "<style scoped>\n",
       "    .dataframe tbody tr th:only-of-type {\n",
       "        vertical-align: middle;\n",
       "    }\n",
       "\n",
       "    .dataframe tbody tr th {\n",
       "        vertical-align: top;\n",
       "    }\n",
       "\n",
       "    .dataframe thead th {\n",
       "        text-align: right;\n",
       "    }\n",
       "</style>\n",
       "<table border=\"1\" class=\"dataframe\">\n",
       "  <thead>\n",
       "    <tr style=\"text-align: right;\">\n",
       "      <th></th>\n",
       "      <th>id</th>\n",
       "      <th>text</th>\n",
       "      <th>len</th>\n",
       "      <th>word_count</th>\n",
       "      <th>duration</th>\n",
       "    </tr>\n",
       "  </thead>\n",
       "  <tbody>\n",
       "    <tr>\n",
       "      <th>0</th>\n",
       "      <td>106392_0</td>\n",
       "      <td>аның иркен күкрәгеннән чыккан тавышы</td>\n",
       "      <td>36</td>\n",
       "      <td>5</td>\n",
       "      <td>2.639375</td>\n",
       "    </tr>\n",
       "    <tr>\n",
       "      <th>1</th>\n",
       "      <td>106367_2030</td>\n",
       "      <td>дип сүзгә керештеләр</td>\n",
       "      <td>20</td>\n",
       "      <td>3</td>\n",
       "      <td>1.990938</td>\n",
       "    </tr>\n",
       "    <tr>\n",
       "      <th>2</th>\n",
       "      <td>106392_1581</td>\n",
       "      <td>казармадан ерак түгел өем өем булып тезелеп ки...</td>\n",
       "      <td>154</td>\n",
       "      <td>22</td>\n",
       "      <td>11.626625</td>\n",
       "    </tr>\n",
       "    <tr>\n",
       "      <th>3</th>\n",
       "      <td>106238_50</td>\n",
       "      <td>сафа шундук хатынының фикер юнәлешен аңлап алд...</td>\n",
       "      <td>155</td>\n",
       "      <td>22</td>\n",
       "      <td>11.355313</td>\n",
       "    </tr>\n",
       "    <tr>\n",
       "      <th>4</th>\n",
       "      <td>106402_1371</td>\n",
       "      <td>күзләре каршыларындагы нәрсәләрне күрмәс дәрәҗ...</td>\n",
       "      <td>54</td>\n",
       "      <td>6</td>\n",
       "      <td>3.818938</td>\n",
       "    </tr>\n",
       "  </tbody>\n",
       "</table>\n",
       "</div>"
      ],
      "text/plain": [
       "            id                                               text  len  \\\n",
       "0     106392_0               аның иркен күкрәгеннән чыккан тавышы   36   \n",
       "1  106367_2030                               дип сүзгә керештеләр   20   \n",
       "2  106392_1581  казармадан ерак түгел өем өем булып тезелеп ки...  154   \n",
       "3    106238_50  сафа шундук хатынының фикер юнәлешен аңлап алд...  155   \n",
       "4  106402_1371  күзләре каршыларындагы нәрсәләрне күрмәс дәрәҗ...   54   \n",
       "\n",
       "   word_count   duration  \n",
       "0           5   2.639375  \n",
       "1           3   1.990938  \n",
       "2          22  11.626625  \n",
       "3          22  11.355313  \n",
       "4           6   3.818938  "
      ]
     },
     "execution_count": 9,
     "metadata": {},
     "output_type": "execute_result"
    }
   ],
   "source": [
    "df_valid.head()"
   ]
  },
  {
   "cell_type": "code",
   "execution_count": 11,
   "id": "d03bca7e",
   "metadata": {},
   "outputs": [
    {
     "name": "stdout",
     "output_type": "stream",
     "text": [
      "Продолжительность аудио в датасете (3) = 23.04 часов\n"
     ]
    }
   ],
   "source": [
    "seconds = df_train['duration'].sum() + df_valid['duration'].sum()\n",
    "print(f'Продолжительность аудио в датасете (3) = {round(seconds / 3600, 2)} часов')"
   ]
  },
  {
   "cell_type": "markdown",
   "id": "db3e0f90",
   "metadata": {},
   "source": [
    "## Исследование данных"
   ]
  },
  {
   "cell_type": "markdown",
   "id": "95ef8cf4",
   "metadata": {},
   "source": [
    "### Длина текста"
   ]
  },
  {
   "cell_type": "markdown",
   "id": "457259ec",
   "metadata": {},
   "source": [
    "#### value_counts"
   ]
  },
  {
   "cell_type": "code",
   "execution_count": 12,
   "id": "dbb1eb97",
   "metadata": {},
   "outputs": [
    {
     "data": {
      "text/plain": [
       "len\n",
       "29     275\n",
       "33     270\n",
       "31     267\n",
       "34     266\n",
       "35     263\n",
       "      ... \n",
       "189      1\n",
       "243      1\n",
       "627      1\n",
       "286      1\n",
       "250      1\n",
       "Name: count, Length: 270, dtype: int64"
      ]
     },
     "execution_count": 12,
     "metadata": {},
     "output_type": "execute_result"
    }
   ],
   "source": [
    "df_train['len'].value_counts()"
   ]
  },
  {
   "cell_type": "code",
   "execution_count": 13,
   "id": "d55e8715",
   "metadata": {},
   "outputs": [
    {
     "data": {
      "text/plain": [
       "word_count\n",
       "5     1600\n",
       "6     1576\n",
       "4     1561\n",
       "7     1410\n",
       "3     1292\n",
       "8     1239\n",
       "9     1000\n",
       "10     874\n",
       "2      859\n",
       "11     727\n",
       "12     581\n",
       "13     471\n",
       "14     430\n",
       "15     345\n",
       "1      335\n",
       "16     264\n",
       "17     244\n",
       "18     191\n",
       "19     149\n",
       "20     121\n",
       "22      86\n",
       "21      74\n",
       "23      59\n",
       "24      56\n",
       "26      39\n",
       "25      33\n",
       "28      25\n",
       "32      25\n",
       "29      23\n",
       "31      20\n",
       "27      19\n",
       "33      18\n",
       "30      18\n",
       "35      12\n",
       "34       9\n",
       "37       7\n",
       "39       5\n",
       "41       5\n",
       "36       5\n",
       "42       5\n",
       "43       4\n",
       "48       4\n",
       "40       3\n",
       "38       2\n",
       "47       2\n",
       "51       2\n",
       "88       1\n",
       "53       1\n",
       "52       1\n",
       "50       1\n",
       "49       1\n",
       "Name: count, dtype: int64"
      ]
     },
     "execution_count": 13,
     "metadata": {},
     "output_type": "execute_result"
    }
   ],
   "source": [
    "df_train['word_count'].value_counts()"
   ]
  },
  {
   "cell_type": "markdown",
   "id": "8b4ca1af",
   "metadata": {},
   "source": [
    "#### Гистограммы"
   ]
  },
  {
   "cell_type": "code",
   "execution_count": 14,
   "id": "331af205",
   "metadata": {},
   "outputs": [
    {
     "data": {
      "image/png": "[encoded data removed]",
      "text/plain": [
       "<Figure size 640x480 with 1 Axes>"
      ]
     },
     "metadata": {},
     "output_type": "display_data"
    }
   ],
   "source": [
    "df_train['len'].hist(bins=25)\n",
    "None"
   ]
  },
  {
   "cell_type": "code",
   "execution_count": 15,
   "id": "95e2cd48",
   "metadata": {},
   "outputs": [
    {
     "data": {
      "image/png": "[encoded data removed]",
      "text/plain": [
       "<Figure size 640x480 with 1 Axes>"
      ]
     },
     "metadata": {},
     "output_type": "display_data"
    }
   ],
   "source": [
    "df_train['word_count'].hist(bins=7)\n",
    "None"
   ]
  },
  {
   "cell_type": "markdown",
   "id": "dbffd9a6",
   "metadata": {},
   "source": [
    "#### Ящик с усами"
   ]
  },
  {
   "cell_type": "code",
   "execution_count": 16,
   "id": "a69b61ab",
   "metadata": {},
   "outputs": [
    {
     "data": {
      "image/png": "[encoded data removed]",
      "text/plain": [
       "<Figure size 640x480 with 1 Axes>"
      ]
     },
     "metadata": {},
     "output_type": "display_data"
    }
   ],
   "source": [
    "df_train.boxplot(column='len')\n",
    "None"
   ]
  },
  {
   "cell_type": "code",
   "execution_count": 17,
   "id": "1e6702d5",
   "metadata": {},
   "outputs": [
    {
     "data": {
      "image/png": "[encoded data removed]",
      "text/plain": [
       "<Figure size 640x480 with 1 Axes>"
      ]
     },
     "metadata": {},
     "output_type": "display_data"
    }
   ],
   "source": [
    "df_train.boxplot(column='word_count')\n",
    "None"
   ]
  },
  {
   "cell_type": "markdown",
   "id": "471c9149",
   "metadata": {},
   "source": [
    "#### describe"
   ]
  },
  {
   "cell_type": "code",
   "execution_count": 18,
   "id": "4d62333d",
   "metadata": {},
   "outputs": [
    {
     "data": {
      "text/plain": [
       "count    15834.000000\n",
       "mean         8.320197\n",
       "std          5.671543\n",
       "min          1.000000\n",
       "25%          4.000000\n",
       "50%          7.000000\n",
       "75%         11.000000\n",
       "max         88.000000\n",
       "Name: word_count, dtype: float64"
      ]
     },
     "execution_count": 18,
     "metadata": {},
     "output_type": "execute_result"
    }
   ],
   "source": [
    "df_train['word_count'].describe()"
   ]
  },
  {
   "cell_type": "code",
   "execution_count": 19,
   "id": "e78002d2",
   "metadata": {},
   "outputs": [
    {
     "data": {
      "text/plain": [
       "count    15834.000000\n",
       "mean        53.472338\n",
       "std         38.212852\n",
       "min          2.000000\n",
       "25%         28.000000\n",
       "50%         44.000000\n",
       "75%         69.000000\n",
       "max        627.000000\n",
       "Name: len, dtype: float64"
      ]
     },
     "execution_count": 19,
     "metadata": {},
     "output_type": "execute_result"
    }
   ],
   "source": [
    "df_train['len'].describe()"
   ]
  },
  {
   "cell_type": "markdown",
   "id": "7551cd65",
   "metadata": {},
   "source": [
    "### Вывод"
   ]
  },
  {
   "cell_type": "code",
   "execution_count": 20,
   "id": "be9ffc0a",
   "metadata": {},
   "outputs": [
    {
     "data": {
      "text/plain": [
       "2.1157003915624606"
      ]
     },
     "execution_count": 20,
     "metadata": {},
     "output_type": "execute_result"
    }
   ],
   "source": [
    "df_train.loc[df_train['word_count'] == 1].shape[0] / df_train.shape[0] * 100"
   ]
  },
  {
   "cell_type": "code",
   "execution_count": 21,
   "id": "4477afb5",
   "metadata": {},
   "outputs": [],
   "source": [
    "# df_train.loc[(2 < df_train['len']) & (df_train['len'] < 68)].shape[0] / df_train.shape[0] * 100"
   ]
  },
  {
   "cell_type": "markdown",
   "id": "9ee0f0e8",
   "metadata": {},
   "source": [
    "Удалим 10% данных, которые являются выбросами"
   ]
  },
  {
   "cell_type": "code",
   "execution_count": 22,
   "id": "5c02f97a",
   "metadata": {},
   "outputs": [],
   "source": [
    "#df_train = df_train.loc[df_train['word_count'] == 1]\n",
    "# df_train = df_train.loc[(2 < df_train['len']) & (df_train['len'] < 68)]\n",
    "\n",
    "#df_valid = df_valid.loc[df_valid['word_count'] == 1]\n",
    "# df_valid = df_valid.loc[(2 < df_valid['len']) & (df_valid['len'] < 68)]"
   ]
  },
  {
   "cell_type": "code",
   "execution_count": 23,
   "id": "cc8829d6",
   "metadata": {},
   "outputs": [],
   "source": [
    "df_train.to_csv(f'{DATASET_PATH}/train.csv')\n",
    "df_valid.to_csv(f'{DATASET_PATH}/valid.csv')"
   ]
  },
  {
   "cell_type": "markdown",
   "id": "973da446",
   "metadata": {},
   "source": [
    "### Цифры"
   ]
  },
  {
   "cell_type": "code",
   "execution_count": 24,
   "id": "2cecfef2",
   "metadata": {},
   "outputs": [],
   "source": [
    "def get_digits(text):\n",
    "    numbers = re.findall(r'\\d+', text)\n",
    "    return numbers == []"
   ]
  },
  {
   "cell_type": "code",
   "execution_count": 25,
   "id": "160a6c62",
   "metadata": {},
   "outputs": [],
   "source": [
    "assert get_digits('бөгелеп төшмәве') == True, 'Неверная работа функции get_digits'\n",
    "assert get_digits('бөгелеп төшмәве 1') == False, 'Неверная работа функции get_digits'\n",
    "assert get_digits('1 бөгелеп төшмәве 2') == False, 'Неверная работа функции get_digits'"
   ]
  },
  {
   "cell_type": "code",
   "execution_count": 26,
   "id": "f8cf1446",
   "metadata": {},
   "outputs": [],
   "source": [
    "df_train['numbers'] = df_train['text'].apply(lambda row: get_digits(row))\n",
    "df_valid['numbers'] = df_valid['text'].apply(lambda row: get_digits(row))"
   ]
  },
  {
   "cell_type": "code",
   "execution_count": 27,
   "id": "7d57f313",
   "metadata": {},
   "outputs": [
    {
     "data": {
      "text/html": [
       "<div>\n",
       "<style scoped>\n",
       "    .dataframe tbody tr th:only-of-type {\n",
       "        vertical-align: middle;\n",
       "    }\n",
       "\n",
       "    .dataframe tbody tr th {\n",
       "        vertical-align: top;\n",
       "    }\n",
       "\n",
       "    .dataframe thead th {\n",
       "        text-align: right;\n",
       "    }\n",
       "</style>\n",
       "<table border=\"1\" class=\"dataframe\">\n",
       "  <thead>\n",
       "    <tr style=\"text-align: right;\">\n",
       "      <th></th>\n",
       "      <th>id</th>\n",
       "      <th>text</th>\n",
       "      <th>len</th>\n",
       "      <th>word_count</th>\n",
       "      <th>duration</th>\n",
       "      <th>numbers</th>\n",
       "    </tr>\n",
       "  </thead>\n",
       "  <tbody>\n",
       "  </tbody>\n",
       "</table>\n",
       "</div>"
      ],
      "text/plain": [
       "Empty DataFrame\n",
       "Columns: [id, text, len, word_count, duration, numbers]\n",
       "Index: []"
      ]
     },
     "execution_count": 27,
     "metadata": {},
     "output_type": "execute_result"
    }
   ],
   "source": [
    "df_train.loc[df_train['numbers'] == False].head()"
   ]
  },
  {
   "cell_type": "code",
   "execution_count": 28,
   "id": "42085a26",
   "metadata": {},
   "outputs": [
    {
     "data": {
      "text/html": [
       "<div>\n",
       "<style scoped>\n",
       "    .dataframe tbody tr th:only-of-type {\n",
       "        vertical-align: middle;\n",
       "    }\n",
       "\n",
       "    .dataframe tbody tr th {\n",
       "        vertical-align: top;\n",
       "    }\n",
       "\n",
       "    .dataframe thead th {\n",
       "        text-align: right;\n",
       "    }\n",
       "</style>\n",
       "<table border=\"1\" class=\"dataframe\">\n",
       "  <thead>\n",
       "    <tr style=\"text-align: right;\">\n",
       "      <th></th>\n",
       "      <th>id</th>\n",
       "      <th>text</th>\n",
       "      <th>len</th>\n",
       "      <th>word_count</th>\n",
       "      <th>duration</th>\n",
       "      <th>numbers</th>\n",
       "    </tr>\n",
       "  </thead>\n",
       "  <tbody>\n",
       "  </tbody>\n",
       "</table>\n",
       "</div>"
      ],
      "text/plain": [
       "Empty DataFrame\n",
       "Columns: [id, text, len, word_count, duration, numbers]\n",
       "Index: []"
      ]
     },
     "execution_count": 28,
     "metadata": {},
     "output_type": "execute_result"
    }
   ],
   "source": [
    "df_valid.loc[df_valid['numbers'] == False].head()"
   ]
  },
  {
   "cell_type": "code",
   "execution_count": 24,
   "id": "7d2ac41d",
   "metadata": {},
   "outputs": [
    {
     "data": {
      "text/plain": [
       "0"
      ]
     },
     "execution_count": 24,
     "metadata": {},
     "output_type": "execute_result"
    }
   ],
   "source": [
    "df_train.loc[df_train['numbers'] == False].shape[0]"
   ]
  },
  {
   "cell_type": "markdown",
   "id": "e363a075",
   "metadata": {},
   "source": [
    "Найдено 33 строки в тренировочном наборе данных, в которых встречаюся числительные"
   ]
  },
  {
   "cell_type": "markdown",
   "id": "680acad6",
   "metadata": {},
   "source": [
    "### Специальные символы"
   ]
  },
  {
   "cell_type": "code",
   "execution_count": 25,
   "id": "3aae506c",
   "metadata": {},
   "outputs": [],
   "source": [
    "def get_char_dijits(text):\n",
    "    special_characters = '@#$%^&*()-+_=<>/\\'\":;[]{}\\\\|~`!?,.'\n",
    "    for char in text:\n",
    "        if char in special_characters:\n",
    "            return False\n",
    "    return True"
   ]
  },
  {
   "cell_type": "code",
   "execution_count": 26,
   "id": "121709dc",
   "metadata": {},
   "outputs": [],
   "source": [
    "assert get_char_dijits('бөгелеп төшмәве') == True, 'Неверная работа функции get_digits'\n",
    "assert get_char_dijits('бөгелеп төшмәве \"\"') == False, 'Неверная работа функции get_digits'\n",
    "assert get_char_dijits('1 бөгелеп төшмәве ..\\\\||') == False, 'Неверная работа функции get_digits'"
   ]
  },
  {
   "cell_type": "code",
   "execution_count": 27,
   "id": "e06c5688",
   "metadata": {},
   "outputs": [],
   "source": [
    "df_train['char_dijits'] = df_train['text'].apply(lambda row: get_char_dijits(row))\n",
    "df_valid['char_dijits'] = df_valid['text'].apply(lambda row: get_char_dijits(row))"
   ]
  },
  {
   "cell_type": "code",
   "execution_count": 28,
   "id": "4ca3d506",
   "metadata": {},
   "outputs": [
    {
     "data": {
      "text/html": [
       "<div>\n",
       "<style scoped>\n",
       "    .dataframe tbody tr th:only-of-type {\n",
       "        vertical-align: middle;\n",
       "    }\n",
       "\n",
       "    .dataframe tbody tr th {\n",
       "        vertical-align: top;\n",
       "    }\n",
       "\n",
       "    .dataframe thead th {\n",
       "        text-align: right;\n",
       "    }\n",
       "</style>\n",
       "<table border=\"1\" class=\"dataframe\">\n",
       "  <thead>\n",
       "    <tr style=\"text-align: right;\">\n",
       "      <th></th>\n",
       "      <th>id</th>\n",
       "      <th>text</th>\n",
       "      <th>len</th>\n",
       "      <th>word_count</th>\n",
       "      <th>numbers</th>\n",
       "      <th>char_dijits</th>\n",
       "    </tr>\n",
       "  </thead>\n",
       "  <tbody>\n",
       "  </tbody>\n",
       "</table>\n",
       "</div>"
      ],
      "text/plain": [
       "Empty DataFrame\n",
       "Columns: [id, text, len, word_count, numbers, char_dijits]\n",
       "Index: []"
      ]
     },
     "execution_count": 28,
     "metadata": {},
     "output_type": "execute_result"
    }
   ],
   "source": [
    "df_train.loc[df_train['char_dijits'] == False].head()"
   ]
  },
  {
   "cell_type": "code",
   "execution_count": 29,
   "id": "d6715f0a",
   "metadata": {},
   "outputs": [
    {
     "data": {
      "text/plain": [
       "0"
      ]
     },
     "execution_count": 29,
     "metadata": {},
     "output_type": "execute_result"
    }
   ],
   "source": [
    "df_train.loc[df_train['char_dijits'] == False].shape[0]"
   ]
  },
  {
   "cell_type": "code",
   "execution_count": 30,
   "id": "c930b84a",
   "metadata": {},
   "outputs": [
    {
     "data": {
      "text/html": [
       "<div>\n",
       "<style scoped>\n",
       "    .dataframe tbody tr th:only-of-type {\n",
       "        vertical-align: middle;\n",
       "    }\n",
       "\n",
       "    .dataframe tbody tr th {\n",
       "        vertical-align: top;\n",
       "    }\n",
       "\n",
       "    .dataframe thead th {\n",
       "        text-align: right;\n",
       "    }\n",
       "</style>\n",
       "<table border=\"1\" class=\"dataframe\">\n",
       "  <thead>\n",
       "    <tr style=\"text-align: right;\">\n",
       "      <th></th>\n",
       "      <th>id</th>\n",
       "      <th>text</th>\n",
       "      <th>len</th>\n",
       "      <th>word_count</th>\n",
       "      <th>numbers</th>\n",
       "      <th>char_dijits</th>\n",
       "    </tr>\n",
       "  </thead>\n",
       "  <tbody>\n",
       "  </tbody>\n",
       "</table>\n",
       "</div>"
      ],
      "text/plain": [
       "Empty DataFrame\n",
       "Columns: [id, text, len, word_count, numbers, char_dijits]\n",
       "Index: []"
      ]
     },
     "execution_count": 30,
     "metadata": {},
     "output_type": "execute_result"
    }
   ],
   "source": [
    "df_valid.loc[df_valid['char_dijits'] == False].head()"
   ]
  },
  {
   "cell_type": "code",
   "execution_count": 31,
   "id": "9aa04fc8",
   "metadata": {},
   "outputs": [
    {
     "data": {
      "text/plain": [
       "0"
      ]
     },
     "execution_count": 31,
     "metadata": {},
     "output_type": "execute_result"
    }
   ],
   "source": [
    "df_valid.loc[df_train['char_dijits'] == False].shape[0]"
   ]
  },
  {
   "cell_type": "markdown",
   "id": "7a3df100",
   "metadata": {},
   "source": [
    "Мы разрешаем иметь в данных !?, символы. остальные нужно будет удалить из датасета"
   ]
  },
  {
   "cell_type": "code",
   "execution_count": null,
   "id": "14728eaa",
   "metadata": {},
   "outputs": [],
   "source": []
  }
 ],
 "metadata": {
  "kernelspec": {
   "display_name": "asr",
   "language": "python",
   "name": "asr"
  },
  "language_info": {
   "codemirror_mode": {
    "name": "ipython",
    "version": 3
   },
   "file_extension": ".py",
   "mimetype": "text/x-python",
   "name": "python",
   "nbconvert_exporter": "python",
   "pygments_lexer": "ipython3",
   "version": "3.11.4"
  }
 },
 "nbformat": 4,
 "nbformat_minor": 5
}
