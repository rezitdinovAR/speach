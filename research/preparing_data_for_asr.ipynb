{
 "cells": [
  {
   "cell_type": "markdown",
   "id": "c0e2829a",
   "metadata": {},
   "source": [
    "# Подготовка данных для ASR"
   ]
  },
  {
   "cell_type": "markdown",
   "id": "c3ef82b9",
   "metadata": {},
   "source": [
    "## Импорты"
   ]
  },
  {
   "cell_type": "code",
   "execution_count": 1,
   "id": "e3dd55d1",
   "metadata": {},
   "outputs": [],
   "source": [
    "import re\n",
    "\n",
    "import matplotlib.pyplot as plt\n",
    "%matplotlib inline\n",
    "import pandas as pd\n",
    "from torch.utils.data import Dataset\n",
    "\n",
    "from dataset_all import IPS1ASRDataset\n",
    "from utils import clean_text"
   ]
  },
  {
   "cell_type": "markdown",
   "id": "8c02e20c",
   "metadata": {},
   "source": [
    "## Датасеты"
   ]
  },
  {
   "cell_type": "code",
   "execution_count": 2,
   "id": "e74b6021",
   "metadata": {},
   "outputs": [],
   "source": [
    "ips_dataset_train = IPS1ASRDataset('../tatar_tts/train/')\n",
    "ips_dataset_valid = IPS1ASRDataset('../tatar_tts/valid/')"
   ]
  },
  {
   "cell_type": "code",
   "execution_count": 3,
   "id": "7449ef4a",
   "metadata": {},
   "outputs": [
    {
     "name": "stdout",
     "output_type": "stream",
     "text": [
      "len(ips_dataset_train) = 73185\n",
      "len(ips_dataset_valid) = 14253\n"
     ]
    }
   ],
   "source": [
    "print(f'len(ips_dataset_train) = {len(ips_dataset_train)}')\n",
    "print(f'len(ips_dataset_valid) = {len(ips_dataset_valid)}')"
   ]
  },
  {
   "cell_type": "code",
   "execution_count": 4,
   "id": "472c6ffb",
   "metadata": {},
   "outputs": [
    {
     "data": {
      "text/plain": [
       "{'text': '356.175.txt', 'audio': '356.175.wav'}"
      ]
     },
     "execution_count": 4,
     "metadata": {},
     "output_type": "execute_result"
    }
   ],
   "source": [
    "ips_dataset_train.data[65]"
   ]
  },
  {
   "cell_type": "code",
   "execution_count": 5,
   "id": "7cb6ef50",
   "metadata": {},
   "outputs": [],
   "source": [
    "def from_dataset_to_df(dataset: Dataset) -> pd.DataFrame:\n",
    "    data = []\n",
    "    for index in range(len(dataset)):\n",
    "        item = dataset.get_metadata(index)\n",
    "        \n",
    "        text = clean_text(item[2])\n",
    "        item_dict = {\n",
    "            'id': str(item[0].split('/')[-1][:-4]),\n",
    "            'text': text,\n",
    "            'len': len(text),\n",
    "            'word_count': len(text.split())\n",
    "        }\n",
    "        data.append(item_dict)\n",
    "    df = pd.DataFrame(data)\n",
    "    del data\n",
    "    return df"
   ]
  },
  {
   "cell_type": "code",
   "execution_count": 6,
   "id": "a3547fd9",
   "metadata": {},
   "outputs": [],
   "source": [
    "df_train = from_dataset_to_df(ips_dataset_train)\n",
    "df_valid = from_dataset_to_df(ips_dataset_valid)"
   ]
  },
  {
   "cell_type": "code",
   "execution_count": 7,
   "id": "aa747b82",
   "metadata": {},
   "outputs": [
    {
     "data": {
      "text/html": [
       "<div>\n",
       "<style scoped>\n",
       "    .dataframe tbody tr th:only-of-type {\n",
       "        vertical-align: middle;\n",
       "    }\n",
       "\n",
       "    .dataframe tbody tr th {\n",
       "        vertical-align: top;\n",
       "    }\n",
       "\n",
       "    .dataframe thead th {\n",
       "        text-align: right;\n",
       "    }\n",
       "</style>\n",
       "<table border=\"1\" class=\"dataframe\">\n",
       "  <thead>\n",
       "    <tr style=\"text-align: right;\">\n",
       "      <th></th>\n",
       "      <th>id</th>\n",
       "      <th>text</th>\n",
       "      <th>len</th>\n",
       "      <th>word_count</th>\n",
       "    </tr>\n",
       "  </thead>\n",
       "  <tbody>\n",
       "    <tr>\n",
       "      <th>0</th>\n",
       "      <td>433.318</td>\n",
       "      <td>караса аны җен шулай чакыра ди</td>\n",
       "      <td>30</td>\n",
       "      <td>6</td>\n",
       "    </tr>\n",
       "    <tr>\n",
       "      <th>1</th>\n",
       "      <td>348.39</td>\n",
       "      <td>без нең бер генә кораб та зарарланмый</td>\n",
       "      <td>37</td>\n",
       "      <td>7</td>\n",
       "    </tr>\n",
       "    <tr>\n",
       "      <th>2</th>\n",
       "      <td>402.165</td>\n",
       "      <td>чистартып көннән көн сәгатьтән сәгатькә көтә б...</td>\n",
       "      <td>55</td>\n",
       "      <td>7</td>\n",
       "    </tr>\n",
       "    <tr>\n",
       "      <th>3</th>\n",
       "      <td>418.88</td>\n",
       "      <td>ни өчен русьта агач архитектура өстенлек иткән</td>\n",
       "      <td>46</td>\n",
       "      <td>7</td>\n",
       "    </tr>\n",
       "    <tr>\n",
       "      <th>4</th>\n",
       "      <td>423.187</td>\n",
       "      <td>малайның уйлары шул урында өзелде</td>\n",
       "      <td>33</td>\n",
       "      <td>5</td>\n",
       "    </tr>\n",
       "  </tbody>\n",
       "</table>\n",
       "</div>"
      ],
      "text/plain": [
       "        id                                               text  len  word_count\n",
       "0  433.318                     караса аны җен шулай чакыра ди   30           6\n",
       "1   348.39              без нең бер генә кораб та зарарланмый   37           7\n",
       "2  402.165  чистартып көннән көн сәгатьтән сәгатькә көтә б...   55           7\n",
       "3   418.88     ни өчен русьта агач архитектура өстенлек иткән   46           7\n",
       "4  423.187                  малайның уйлары шул урында өзелде   33           5"
      ]
     },
     "execution_count": 7,
     "metadata": {},
     "output_type": "execute_result"
    }
   ],
   "source": [
    "df_train.head()"
   ]
  },
  {
   "cell_type": "code",
   "execution_count": 8,
   "id": "00ab624c",
   "metadata": {},
   "outputs": [
    {
     "data": {
      "text/html": [
       "<div>\n",
       "<style scoped>\n",
       "    .dataframe tbody tr th:only-of-type {\n",
       "        vertical-align: middle;\n",
       "    }\n",
       "\n",
       "    .dataframe tbody tr th {\n",
       "        vertical-align: top;\n",
       "    }\n",
       "\n",
       "    .dataframe thead th {\n",
       "        text-align: right;\n",
       "    }\n",
       "</style>\n",
       "<table border=\"1\" class=\"dataframe\">\n",
       "  <thead>\n",
       "    <tr style=\"text-align: right;\">\n",
       "      <th></th>\n",
       "      <th>id</th>\n",
       "      <th>text</th>\n",
       "      <th>len</th>\n",
       "      <th>word_count</th>\n",
       "    </tr>\n",
       "  </thead>\n",
       "  <tbody>\n",
       "    <tr>\n",
       "      <th>0</th>\n",
       "      <td>282.311</td>\n",
       "      <td>бүген</td>\n",
       "      <td>5</td>\n",
       "      <td>1</td>\n",
       "    </tr>\n",
       "    <tr>\n",
       "      <th>1</th>\n",
       "      <td>20.2</td>\n",
       "      <td>ниһаять халисә үзен кулга алды плащын һәм шарф...</td>\n",
       "      <td>59</td>\n",
       "      <td>10</td>\n",
       "    </tr>\n",
       "    <tr>\n",
       "      <th>2</th>\n",
       "      <td>272.354</td>\n",
       "      <td>бөгелеп төшмәве</td>\n",
       "      <td>15</td>\n",
       "      <td>2</td>\n",
       "    </tr>\n",
       "    <tr>\n",
       "      <th>3</th>\n",
       "      <td>270.262</td>\n",
       "      <td>бар уңышка ирешкән командалар</td>\n",
       "      <td>29</td>\n",
       "      <td>4</td>\n",
       "    </tr>\n",
       "    <tr>\n",
       "      <th>4</th>\n",
       "      <td>276.116</td>\n",
       "      <td>ураза кешенең сәламәтлегенә зыян салса шулай у...</td>\n",
       "      <td>62</td>\n",
       "      <td>9</td>\n",
       "    </tr>\n",
       "  </tbody>\n",
       "</table>\n",
       "</div>"
      ],
      "text/plain": [
       "        id                                               text  len  word_count\n",
       "0  282.311                                              бүген    5           1\n",
       "1     20.2  ниһаять халисә үзен кулга алды плащын һәм шарф...   59          10\n",
       "2  272.354                                    бөгелеп төшмәве   15           2\n",
       "3  270.262                      бар уңышка ирешкән командалар   29           4\n",
       "4  276.116  ураза кешенең сәламәтлегенә зыян салса шулай у...   62           9"
      ]
     },
     "execution_count": 8,
     "metadata": {},
     "output_type": "execute_result"
    }
   ],
   "source": [
    "df_valid.head()"
   ]
  },
  {
   "cell_type": "markdown",
   "id": "db3e0f90",
   "metadata": {},
   "source": [
    "## Исследование данных"
   ]
  },
  {
   "cell_type": "markdown",
   "id": "95ef8cf4",
   "metadata": {},
   "source": [
    "### Длина текста"
   ]
  },
  {
   "cell_type": "markdown",
   "id": "457259ec",
   "metadata": {},
   "source": [
    "#### value_counts"
   ]
  },
  {
   "cell_type": "code",
   "execution_count": 9,
   "id": "dbb1eb97",
   "metadata": {},
   "outputs": [
    {
     "data": {
      "text/plain": [
       "len\n",
       "42     1970\n",
       "41     1961\n",
       "38     1913\n",
       "34     1853\n",
       "40     1834\n",
       "       ... \n",
       "125       1\n",
       "117       1\n",
       "129       1\n",
       "152       1\n",
       "136       1\n",
       "Name: count, Length: 148, dtype: int64"
      ]
     },
     "execution_count": 9,
     "metadata": {},
     "output_type": "execute_result"
    }
   ],
   "source": [
    "df_train['len'].value_counts()"
   ]
  },
  {
   "cell_type": "code",
   "execution_count": 10,
   "id": "d55e8715",
   "metadata": {},
   "outputs": [
    {
     "data": {
      "text/plain": [
       "word_count\n",
       "7     13737\n",
       "6     13568\n",
       "5     13226\n",
       "4      7532\n",
       "8      7349\n",
       "9      4828\n",
       "3      3563\n",
       "1      3173\n",
       "10     2092\n",
       "2      1737\n",
       "11     1152\n",
       "12      752\n",
       "13      180\n",
       "14      112\n",
       "15       73\n",
       "16       38\n",
       "18       27\n",
       "17       26\n",
       "19        7\n",
       "20        4\n",
       "21        3\n",
       "28        2\n",
       "22        2\n",
       "23        1\n",
       "24        1\n",
       "Name: count, dtype: int64"
      ]
     },
     "execution_count": 10,
     "metadata": {},
     "output_type": "execute_result"
    }
   ],
   "source": [
    "df_train['word_count'].value_counts()"
   ]
  },
  {
   "cell_type": "markdown",
   "id": "8b4ca1af",
   "metadata": {},
   "source": [
    "#### Гистограммы"
   ]
  },
  {
   "cell_type": "code",
   "execution_count": 11,
   "id": "331af205",
   "metadata": {},
   "outputs": [
    {
     "data": {
      "image/png": "[encoded data removed]",
      "text/plain": [
       "<Figure size 640x480 with 1 Axes>"
      ]
     },
     "metadata": {},
     "output_type": "display_data"
    }
   ],
   "source": [
    "df_train['len'].hist(bins=25)\n",
    "None"
   ]
  },
  {
   "cell_type": "code",
   "execution_count": 12,
   "id": "95e2cd48",
   "metadata": {},
   "outputs": [
    {
     "data": {
      "image/png": "[encoded data removed]",
      "text/plain": [
       "<Figure size 640x480 with 1 Axes>"
      ]
     },
     "metadata": {},
     "output_type": "display_data"
    }
   ],
   "source": [
    "df_train['word_count'].hist(bins=7)\n",
    "None"
   ]
  },
  {
   "cell_type": "markdown",
   "id": "dbffd9a6",
   "metadata": {},
   "source": [
    "#### Ящик с усами"
   ]
  },
  {
   "cell_type": "code",
   "execution_count": 13,
   "id": "a69b61ab",
   "metadata": {},
   "outputs": [
    {
     "data": {
      "image/png": "[encoded data removed]",
      "text/plain": [
       "<Figure size 640x480 with 1 Axes>"
      ]
     },
     "metadata": {},
     "output_type": "display_data"
    }
   ],
   "source": [
    "df_train.boxplot(column='len')\n",
    "None"
   ]
  },
  {
   "cell_type": "code",
   "execution_count": 14,
   "id": "1e6702d5",
   "metadata": {},
   "outputs": [
    {
     "data": {
      "image/png": "[encoded data removed]",
      "text/plain": [
       "<Figure size 640x480 with 1 Axes>"
      ]
     },
     "metadata": {},
     "output_type": "display_data"
    }
   ],
   "source": [
    "df_train.boxplot(column='word_count')\n",
    "None"
   ]
  },
  {
   "cell_type": "markdown",
   "id": "471c9149",
   "metadata": {},
   "source": [
    "#### describe"
   ]
  },
  {
   "cell_type": "code",
   "execution_count": 15,
   "id": "4d62333d",
   "metadata": {},
   "outputs": [
    {
     "data": {
      "text/plain": [
       "count    73185.000000\n",
       "mean         6.052921\n",
       "std          2.325373\n",
       "min          1.000000\n",
       "25%          5.000000\n",
       "50%          6.000000\n",
       "75%          7.000000\n",
       "max         28.000000\n",
       "Name: word_count, dtype: float64"
      ]
     },
     "execution_count": 15,
     "metadata": {},
     "output_type": "execute_result"
    }
   ],
   "source": [
    "df_train['word_count'].describe()"
   ]
  },
  {
   "cell_type": "code",
   "execution_count": 16,
   "id": "e78002d2",
   "metadata": {},
   "outputs": [
    {
     "data": {
      "text/plain": [
       "count    73185.000000\n",
       "mean        40.249546\n",
       "std         16.827032\n",
       "min          1.000000\n",
       "25%         29.000000\n",
       "50%         40.000000\n",
       "75%         50.000000\n",
       "max        230.000000\n",
       "Name: len, dtype: float64"
      ]
     },
     "execution_count": 16,
     "metadata": {},
     "output_type": "execute_result"
    }
   ],
   "source": [
    "df_train['len'].describe()"
   ]
  },
  {
   "cell_type": "markdown",
   "id": "7551cd65",
   "metadata": {},
   "source": [
    "### Вывод"
   ]
  },
  {
   "cell_type": "code",
   "execution_count": 20,
   "id": "be9ffc0a",
   "metadata": {},
   "outputs": [
    {
     "data": {
      "text/plain": [
       "100.0"
      ]
     },
     "execution_count": 20,
     "metadata": {},
     "output_type": "execute_result"
    }
   ],
   "source": [
    "df_train.loc[df_train['word_count'] == 1].shape[0] / df_train.shape[0] * 100"
   ]
  },
  {
   "cell_type": "code",
   "execution_count": 39,
   "id": "4477afb5",
   "metadata": {},
   "outputs": [
    {
     "data": {
      "text/plain": [
       "99.75413895570964"
      ]
     },
     "execution_count": 39,
     "metadata": {},
     "output_type": "execute_result"
    }
   ],
   "source": [
    "# df_train.loc[(2 < df_train['len']) & (df_train['len'] < 68)].shape[0] / df_train.shape[0] * 100"
   ]
  },
  {
   "cell_type": "markdown",
   "id": "9ee0f0e8",
   "metadata": {},
   "source": [
    "Удалим 10% данных, которые являются выбросами"
   ]
  },
  {
   "cell_type": "code",
   "execution_count": 18,
   "id": "5c02f97a",
   "metadata": {},
   "outputs": [],
   "source": [
    "df_train = df_train.loc[df_train['word_count'] == 1]\n",
    "# df_train = df_train.loc[(2 < df_train['len']) & (df_train['len'] < 68)]\n",
    "\n",
    "df_valid = df_valid.loc[df_valid['word_count'] == 1]\n",
    "# df_valid = df_valid.loc[(2 < df_valid['len']) & (df_valid['len'] < 68)]"
   ]
  },
  {
   "cell_type": "code",
   "execution_count": 19,
   "id": "cc8829d6",
   "metadata": {},
   "outputs": [],
   "source": [
    "df_train.to_csv('../tatar_tts/train.csv')\n",
    "df_valid.to_csv('../tatar_tts/valid.csv')"
   ]
  },
  {
   "cell_type": "markdown",
   "id": "973da446",
   "metadata": {},
   "source": [
    "### Цифры"
   ]
  },
  {
   "cell_type": "code",
   "execution_count": 19,
   "id": "2cecfef2",
   "metadata": {},
   "outputs": [],
   "source": [
    "def get_digits(text):\n",
    "    numbers = re.findall(r'\\d+', text)\n",
    "    return numbers == []"
   ]
  },
  {
   "cell_type": "code",
   "execution_count": 20,
   "id": "160a6c62",
   "metadata": {},
   "outputs": [],
   "source": [
    "assert get_digits('бөгелеп төшмәве') == True, 'Неверная работа функции get_digits'\n",
    "assert get_digits('бөгелеп төшмәве 1') == False, 'Неверная работа функции get_digits'\n",
    "assert get_digits('1 бөгелеп төшмәве 2') == False, 'Неверная работа функции get_digits'"
   ]
  },
  {
   "cell_type": "code",
   "execution_count": 21,
   "id": "f8cf1446",
   "metadata": {},
   "outputs": [],
   "source": [
    "df_train['numbers'] = df_train['text'].apply(lambda row: get_digits(row))\n",
    "df_valid['numbers'] = df_valid['text'].apply(lambda row: get_digits(row))"
   ]
  },
  {
   "cell_type": "code",
   "execution_count": 22,
   "id": "7d57f313",
   "metadata": {},
   "outputs": [
    {
     "data": {
      "text/html": [
       "<div>\n",
       "<style scoped>\n",
       "    .dataframe tbody tr th:only-of-type {\n",
       "        vertical-align: middle;\n",
       "    }\n",
       "\n",
       "    .dataframe tbody tr th {\n",
       "        vertical-align: top;\n",
       "    }\n",
       "\n",
       "    .dataframe thead th {\n",
       "        text-align: right;\n",
       "    }\n",
       "</style>\n",
       "<table border=\"1\" class=\"dataframe\">\n",
       "  <thead>\n",
       "    <tr style=\"text-align: right;\">\n",
       "      <th></th>\n",
       "      <th>id</th>\n",
       "      <th>text</th>\n",
       "      <th>len</th>\n",
       "      <th>word_count</th>\n",
       "      <th>numbers</th>\n",
       "    </tr>\n",
       "  </thead>\n",
       "  <tbody>\n",
       "  </tbody>\n",
       "</table>\n",
       "</div>"
      ],
      "text/plain": [
       "Empty DataFrame\n",
       "Columns: [id, text, len, word_count, numbers]\n",
       "Index: []"
      ]
     },
     "execution_count": 22,
     "metadata": {},
     "output_type": "execute_result"
    }
   ],
   "source": [
    "df_train.loc[df_train['numbers'] == False].head()"
   ]
  },
  {
   "cell_type": "code",
   "execution_count": 23,
   "id": "42085a26",
   "metadata": {},
   "outputs": [
    {
     "data": {
      "text/html": [
       "<div>\n",
       "<style scoped>\n",
       "    .dataframe tbody tr th:only-of-type {\n",
       "        vertical-align: middle;\n",
       "    }\n",
       "\n",
       "    .dataframe tbody tr th {\n",
       "        vertical-align: top;\n",
       "    }\n",
       "\n",
       "    .dataframe thead th {\n",
       "        text-align: right;\n",
       "    }\n",
       "</style>\n",
       "<table border=\"1\" class=\"dataframe\">\n",
       "  <thead>\n",
       "    <tr style=\"text-align: right;\">\n",
       "      <th></th>\n",
       "      <th>id</th>\n",
       "      <th>text</th>\n",
       "      <th>len</th>\n",
       "      <th>word_count</th>\n",
       "      <th>numbers</th>\n",
       "    </tr>\n",
       "  </thead>\n",
       "  <tbody>\n",
       "  </tbody>\n",
       "</table>\n",
       "</div>"
      ],
      "text/plain": [
       "Empty DataFrame\n",
       "Columns: [id, text, len, word_count, numbers]\n",
       "Index: []"
      ]
     },
     "execution_count": 23,
     "metadata": {},
     "output_type": "execute_result"
    }
   ],
   "source": [
    "df_valid.loc[df_valid['numbers'] == False].head()"
   ]
  },
  {
   "cell_type": "code",
   "execution_count": 24,
   "id": "7d2ac41d",
   "metadata": {},
   "outputs": [
    {
     "data": {
      "text/plain": [
       "0"
      ]
     },
     "execution_count": 24,
     "metadata": {},
     "output_type": "execute_result"
    }
   ],
   "source": [
    "df_train.loc[df_train['numbers'] == False].shape[0]"
   ]
  },
  {
   "cell_type": "markdown",
   "id": "e363a075",
   "metadata": {},
   "source": [
    "Найдено 33 строки в тренировочном наборе данных, в которых встречаюся числительные"
   ]
  },
  {
   "cell_type": "markdown",
   "id": "680acad6",
   "metadata": {},
   "source": [
    "### Специальные символы"
   ]
  },
  {
   "cell_type": "code",
   "execution_count": 25,
   "id": "3aae506c",
   "metadata": {},
   "outputs": [],
   "source": [
    "def get_char_dijits(text):\n",
    "    special_characters = '@#$%^&*()-+_=<>/\\'\":;[]{}\\\\|~`!?,.'\n",
    "    for char in text:\n",
    "        if char in special_characters:\n",
    "            return False\n",
    "    return True"
   ]
  },
  {
   "cell_type": "code",
   "execution_count": 26,
   "id": "121709dc",
   "metadata": {},
   "outputs": [],
   "source": [
    "assert get_char_dijits('бөгелеп төшмәве') == True, 'Неверная работа функции get_digits'\n",
    "assert get_char_dijits('бөгелеп төшмәве \"\"') == False, 'Неверная работа функции get_digits'\n",
    "assert get_char_dijits('1 бөгелеп төшмәве ..\\\\||') == False, 'Неверная работа функции get_digits'"
   ]
  },
  {
   "cell_type": "code",
   "execution_count": 27,
   "id": "e06c5688",
   "metadata": {},
   "outputs": [],
   "source": [
    "df_train['char_dijits'] = df_train['text'].apply(lambda row: get_char_dijits(row))\n",
    "df_valid['char_dijits'] = df_valid['text'].apply(lambda row: get_char_dijits(row))"
   ]
  },
  {
   "cell_type": "code",
   "execution_count": 28,
   "id": "4ca3d506",
   "metadata": {},
   "outputs": [
    {
     "data": {
      "text/html": [
       "<div>\n",
       "<style scoped>\n",
       "    .dataframe tbody tr th:only-of-type {\n",
       "        vertical-align: middle;\n",
       "    }\n",
       "\n",
       "    .dataframe tbody tr th {\n",
       "        vertical-align: top;\n",
       "    }\n",
       "\n",
       "    .dataframe thead th {\n",
       "        text-align: right;\n",
       "    }\n",
       "</style>\n",
       "<table border=\"1\" class=\"dataframe\">\n",
       "  <thead>\n",
       "    <tr style=\"text-align: right;\">\n",
       "      <th></th>\n",
       "      <th>id</th>\n",
       "      <th>text</th>\n",
       "      <th>len</th>\n",
       "      <th>word_count</th>\n",
       "      <th>numbers</th>\n",
       "      <th>char_dijits</th>\n",
       "    </tr>\n",
       "  </thead>\n",
       "  <tbody>\n",
       "  </tbody>\n",
       "</table>\n",
       "</div>"
      ],
      "text/plain": [
       "Empty DataFrame\n",
       "Columns: [id, text, len, word_count, numbers, char_dijits]\n",
       "Index: []"
      ]
     },
     "execution_count": 28,
     "metadata": {},
     "output_type": "execute_result"
    }
   ],
   "source": [
    "df_train.loc[df_train['char_dijits'] == False].head()"
   ]
  },
  {
   "cell_type": "code",
   "execution_count": 29,
   "id": "d6715f0a",
   "metadata": {},
   "outputs": [
    {
     "data": {
      "text/plain": [
       "0"
      ]
     },
     "execution_count": 29,
     "metadata": {},
     "output_type": "execute_result"
    }
   ],
   "source": [
    "df_train.loc[df_train['char_dijits'] == False].shape[0]"
   ]
  },
  {
   "cell_type": "code",
   "execution_count": 30,
   "id": "c930b84a",
   "metadata": {},
   "outputs": [
    {
     "data": {
      "text/html": [
       "<div>\n",
       "<style scoped>\n",
       "    .dataframe tbody tr th:only-of-type {\n",
       "        vertical-align: middle;\n",
       "    }\n",
       "\n",
       "    .dataframe tbody tr th {\n",
       "        vertical-align: top;\n",
       "    }\n",
       "\n",
       "    .dataframe thead th {\n",
       "        text-align: right;\n",
       "    }\n",
       "</style>\n",
       "<table border=\"1\" class=\"dataframe\">\n",
       "  <thead>\n",
       "    <tr style=\"text-align: right;\">\n",
       "      <th></th>\n",
       "      <th>id</th>\n",
       "      <th>text</th>\n",
       "      <th>len</th>\n",
       "      <th>word_count</th>\n",
       "      <th>numbers</th>\n",
       "      <th>char_dijits</th>\n",
       "    </tr>\n",
       "  </thead>\n",
       "  <tbody>\n",
       "  </tbody>\n",
       "</table>\n",
       "</div>"
      ],
      "text/plain": [
       "Empty DataFrame\n",
       "Columns: [id, text, len, word_count, numbers, char_dijits]\n",
       "Index: []"
      ]
     },
     "execution_count": 30,
     "metadata": {},
     "output_type": "execute_result"
    }
   ],
   "source": [
    "df_valid.loc[df_valid['char_dijits'] == False].head()"
   ]
  },
  {
   "cell_type": "code",
   "execution_count": 31,
   "id": "9aa04fc8",
   "metadata": {},
   "outputs": [
    {
     "data": {
      "text/plain": [
       "0"
      ]
     },
     "execution_count": 31,
     "metadata": {},
     "output_type": "execute_result"
    }
   ],
   "source": [
    "df_valid.loc[df_train['char_dijits'] == False].shape[0]"
   ]
  },
  {
   "cell_type": "markdown",
   "id": "7a3df100",
   "metadata": {},
   "source": [
    "Мы разрешаем иметь в данных !?, символы. остальные нужно будет удалить из датасета"
   ]
  },
  {
   "cell_type": "code",
   "execution_count": null,
   "id": "14728eaa",
   "metadata": {},
   "outputs": [],
   "source": []
  }
 ],
 "metadata": {
  "kernelspec": {
   "display_name": "asr",
   "language": "python",
   "name": "asr"
  },
  "language_info": {
   "codemirror_mode": {
    "name": "ipython",
    "version": 3
   },
   "file_extension": ".py",
   "mimetype": "text/x-python",
   "name": "python",
   "nbconvert_exporter": "python",
   "pygments_lexer": "ipython3",
   "version": "3.11.4"
  }
 },
 "nbformat": 4,
 "nbformat_minor": 5
}
